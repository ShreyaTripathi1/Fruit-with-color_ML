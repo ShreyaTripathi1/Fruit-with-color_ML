{
 "cells": [
  {
   "cell_type": "code",
   "execution_count": 4,
   "id": "8acd5639",
   "metadata": {
    "scrolled": true
   },
   "outputs": [
    {
     "name": "stdout",
     "output_type": "stream",
     "text": [
      "Accuracy: 83.33%\n",
      "Precision: 0.861111111111111\n",
      "Recall: 0.8333333333333334\n",
      "F1 Score: 0.8333333333333334\n"
     ]
    }
   ],
   "source": [
    "from sklearn.model_selection import train_test_split\n",
    "from sklearn.tree import DecisionTreeClassifier\n",
    "from sklearn import metrics\n",
    "import pandas as pd\n",
    "\n",
    "# Create a DataFrame from the dataset\n",
    "df = pd.read_table('fruit_data_with_colors.txt')\n",
    "\n",
    "# Separate features (X) and target variable (y)\n",
    "X = df[['mass', 'width', 'height', 'color_score']]\n",
    "y = df['fruit_label']\n",
    "\n",
    "# Split the dataset into training and testing sets\n",
    "X_train, X_test, y_train, y_test = train_test_split(X, y, test_size=0.2, random_state=42)\n",
    "\n",
    "# Create a decision tree classifier\n",
    "clf = DecisionTreeClassifier()\n",
    "\n",
    "# Train the classifier on the training set\n",
    "clf.fit(X_train, y_train)\n",
    "\n",
    "# Make predictions on the testing set\n",
    "y_pred = clf.predict(X_test)\n",
    "\n",
    "# Evaluate the performance of the classifier\n",
    "accuracy = metrics.accuracy_score(y_test, y_pred)\n",
    "precision = metrics.precision_score(y_test, y_pred, average='weighted')\n",
    "recall = metrics.recall_score(y_test, y_pred, average='weighted')\n",
    "f1 = metrics.f1_score(y_test, y_pred, average='weighted')\n",
    "\n",
    "print(f\"Accuracy: {accuracy * 100:.2f}%\")\n",
    "print(f\"Precision: {precision}\")\n",
    "print(f\"Recall: {recall}\")\n",
    "print(f\"F1 Score: {f1}\")\n",
    "\n",
    "# from sklearn.tree import export_graphviz\n",
    "# import graphviz\n",
    "# dot_data = export_graphviz(clf, out_file=None, feature_names=X.columns, class_names=df['fruit_name'].unique(), filled=True, rounded=True)\n",
    "# graph = graphviz.Source(dot_data)\n",
    "# graph.render(\"fruit_tree\")\n"
   ]
  },
  {
   "cell_type": "code",
   "execution_count": null,
   "id": "76f99e3c",
   "metadata": {},
   "outputs": [],
   "source": []
  }
 ],
 "metadata": {
  "kernelspec": {
   "display_name": "Python 3 (ipykernel)",
   "language": "python",
   "name": "python3"
  },
  "language_info": {
   "codemirror_mode": {
    "name": "ipython",
    "version": 3
   },
   "file_extension": ".py",
   "mimetype": "text/x-python",
   "name": "python",
   "nbconvert_exporter": "python",
   "pygments_lexer": "ipython3",
   "version": "3.10.9"
  }
 },
 "nbformat": 4,
 "nbformat_minor": 5
}
